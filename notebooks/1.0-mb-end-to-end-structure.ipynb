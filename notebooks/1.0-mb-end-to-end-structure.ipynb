{
 "cells": [
  {
   "cell_type": "markdown",
   "id": "d61a1acf",
   "metadata": {},
   "source": [
    "# Business Problem"
   ]
  },
  {
   "cell_type": "markdown",
   "id": "a6e5cd0e",
   "metadata": {
    "heading_collapsed": true
   },
   "source": [
    "## Business Situation"
   ]
  },
  {
   "cell_type": "markdown",
   "id": "75104d81",
   "metadata": {
    "hidden": true
   },
   "source": [
    "All in One Co. is a multibrand outlet that wants to create a loyality program the best customers called INSIDERS. The company has registered one year of purchasing from its customers and wants to reward those customers with marketing actions. \n",
    "\n",
    "Business Questions:\n",
    "- Who are the customers elegible?\n",
    "- How many customers will be part of Insiders group?\n",
    "- What are the main behaviour of those customers?\n",
    "- How much revenue comes from Insiders customer groups?\n",
    "- How much revenue is expected from Insiders next month?\n",
    "- Which conditions one person must comply to be an Insider?\n",
    "- What removes a customer from Insider group?\n",
    "- What guarantees the loyality program customers are better than others?\n",
    "- Which actions MKT team could take to increase revenue?"
   ]
  },
  {
   "cell_type": "markdown",
   "id": "0c7c8977",
   "metadata": {},
   "source": [
    "## Business Understanding & Solution Planning"
   ]
  },
  {
   "cell_type": "markdown",
   "id": "d62fecaa",
   "metadata": {},
   "source": [
    "A) <u>Business problem (open question)</u> - **How could we identify customers to a loyality program?**\n",
    "\n",
    "B) <u>Business understanding</u>\n",
    "\n",
    "- **Motivation?** The company wants to identify the most valuable customers in order to promote a loyality program and increase engagement/purchasing from those customers. MKT team wants to address some initiatives to increase revenue from this valuable group. Thus, was requested to Data team to evaluate current purchasing data  and propose tools to help the company build the Insiders program. \n",
    "\n",
    "- **Root cause**: Increase revenue\n",
    "\n",
    "- **Scope**: (closed affirmation): \n",
    "  - Firstly: Build a tool to help identify most valuable customers from actual (one year) purchasing database\n",
    "  - Secondarily: Build a report to answer some business questions and support MKT initiatives. \n",
    "  \n",
    "    \n",
    "- **Stakeholder**? CFO\n",
    "\n",
    "\n",
    "- **Acceptance Criteria**: ??"
   ]
  },
  {
   "cell_type": "markdown",
   "id": "a2955ca4",
   "metadata": {},
   "source": [
    "### Planning Solution"
   ]
  },
  {
   "cell_type": "markdown",
   "id": "588b71d3",
   "metadata": {},
   "source": [
    "**Solution overview**:\n",
    "\n",
    " - <u>Kind of problem</u>: Most valuable customers identification in order to frame into loyality program\n",
    " - <u>Potential methods</u>: Clustering"
   ]
  },
  {
   "cell_type": "markdown",
   "id": "166c0bfc",
   "metadata": {},
   "source": [
    "#### Inputs"
   ]
  },
  {
   "cell_type": "code",
   "execution_count": null,
   "id": "381353fe",
   "metadata": {},
   "outputs": [],
   "source": []
  },
  {
   "cell_type": "markdown",
   "id": "e438c15c",
   "metadata": {},
   "source": [
    "#### Outputs"
   ]
  },
  {
   "cell_type": "markdown",
   "id": "982748d0",
   "metadata": {
    "ExecuteTime": {
     "end_time": "2023-01-12T11:29:57.925724Z",
     "start_time": "2023-01-12T11:29:57.916471Z"
    }
   },
   "source": [
    "- Provide a list of customers that will be part of Insiders Loyality Program:\n",
    "\n",
    "\n",
    "    - List format:\n",
    "            client_id | is_insider:\n",
    "            234213213 | no  / 0\n",
    "            324325252 | yes / 1\n",
    "            435345353 | yes / 1\n",
    "            \n",
    "            \n",
    "- Report answering business questions:\n",
    "\n",
    "\n",
    "    - 1. Who are the customers elegible?\n",
    "    - 2. How many customers will be part of Insiders group?\n",
    "    - 3. What are the main behaviour of those customers?\n",
    "    - 4. How much revenue comes from Insiders customer groups?\n",
    "    - 5. How much revenue is expected from Insiders next month?\n",
    "    - 6. Which conditions one person must comply to be an Insider?\n",
    "    - 7. What removes a customer from Insider group?\n",
    "    - 8. What guarantees the loyality program customers are better than others?\n",
    "    - 9. Which actions MKT team could take to increase revenue?"
   ]
  },
  {
   "cell_type": "markdown",
   "id": "bae78430",
   "metadata": {},
   "source": [
    "#### Tasks"
   ]
  },
  {
   "cell_type": "markdown",
   "id": "d1ec791d",
   "metadata": {},
   "source": [
    "- 1. Who are the customers elegible?\n",
    "    - Who is most valuable customers? \n",
    "        - Revenue:\n",
    "            - High ticket?\n",
    "            - High LTV?\n",
    "            - High frequency?\n",
    "            - High basket size?\n",
    "            - Low churn?\n",
    "        - Cost:\n",
    "            - Low return rate?\n",
    "            - Low CAC?\n",
    "            -\n",
    "        - Experience:\n",
    "- 2. How many customers will be part of Insiders group?\n",
    "- 3. What are the main behaviour of those customers?\n",
    "- 4. How much revenue comes from Insiders customer groups?\n",
    "- 5. How much revenue is expected from Insiders next month?\n",
    "- 6. Which conditions one person must comply to be an Insider?\n",
    "- 7. What removes a customer from Insider group?\n",
    "- 8. What guarantees the loyality program customers are better than others?\n",
    "- 9. Which actions MKT team could take to increase revenue?"
   ]
  },
  {
   "cell_type": "markdown",
   "id": "12055678",
   "metadata": {},
   "source": [
    "## Project Assumptions"
   ]
  },
  {
   "cell_type": "markdown",
   "id": "fbce1338",
   "metadata": {
    "heading_collapsed": true
   },
   "source": [
    "## Others"
   ]
  },
  {
   "cell_type": "markdown",
   "id": "4c8482d7",
   "metadata": {
    "hidden": true
   },
   "source": [
    "C) Insights\n",
    "\n",
    "\n",
    "D) Business Results\n",
    "\n",
    "\n",
    "E) Conclusion (Objectives reached? Problems faced?)\n",
    "\n",
    "\n",
    "F) Next Steps\n",
    "\n",
    "G) Lessons learned"
   ]
  },
  {
   "cell_type": "markdown",
   "id": "79ddbb2b",
   "metadata": {
    "heading_collapsed": true
   },
   "source": [
    "# 0. Imports"
   ]
  },
  {
   "cell_type": "code",
   "execution_count": 11,
   "id": "982ff15d",
   "metadata": {
    "ExecuteTime": {
     "end_time": "2023-01-12T10:24:27.835314Z",
     "start_time": "2023-01-12T10:24:27.822020Z"
    },
    "hidden": true
   },
   "outputs": [],
   "source": [
    "import pandas as pd"
   ]
  },
  {
   "cell_type": "markdown",
   "id": "1d32520b",
   "metadata": {
    "heading_collapsed": true,
    "hidden": true
   },
   "source": [
    "## 0.1 Helper Functions"
   ]
  },
  {
   "cell_type": "code",
   "execution_count": null,
   "id": "b99d5e19",
   "metadata": {
    "hidden": true
   },
   "outputs": [],
   "source": []
  },
  {
   "cell_type": "markdown",
   "id": "f322e075",
   "metadata": {
    "heading_collapsed": true,
    "hidden": true
   },
   "source": [
    "## 0.2 Loading Data"
   ]
  },
  {
   "cell_type": "code",
   "execution_count": 29,
   "id": "fa7ff0cb",
   "metadata": {
    "ExecuteTime": {
     "end_time": "2023-01-12T11:20:31.675490Z",
     "start_time": "2023-01-12T11:20:31.231172Z"
    },
    "hidden": true
   },
   "outputs": [],
   "source": [
    "df_raw = pd.read_csv('c:/Users/marco/OneDrive/Documents/repos/ds_em_producao/insiders-loyality-program-clustering/data/raw/Ecommerce.csv', encoding = \"ISO-8859-1\")\n",
    "df_raw = df_raw.drop(columns='Unnamed: 8')"
   ]
  },
  {
   "cell_type": "markdown",
   "id": "05a0c443",
   "metadata": {},
   "source": [
    "# 1. Data Description"
   ]
  },
  {
   "cell_type": "code",
   "execution_count": 31,
   "id": "57017e89",
   "metadata": {
    "ExecuteTime": {
     "end_time": "2023-01-12T11:21:18.290689Z",
     "start_time": "2023-01-12T11:21:18.271802Z"
    }
   },
   "outputs": [],
   "source": [
    "df1 = df_raw.copy()"
   ]
  },
  {
   "cell_type": "code",
   "execution_count": 35,
   "id": "9d59c9de",
   "metadata": {
    "ExecuteTime": {
     "end_time": "2023-01-12T11:25:43.720573Z",
     "start_time": "2023-01-12T11:25:43.713641Z"
    }
   },
   "outputs": [
    {
     "name": "stdout",
     "output_type": "stream",
     "text": [
      "The dataset has 541909 rows\n",
      "The dataset has 8 attributes\n"
     ]
    }
   ],
   "source": [
    "print('The dataset has {} rows'.format(df1.shape[0]))\n",
    "print('The dataset has {} attributes'.format(df1.shape[1]))"
   ]
  },
  {
   "cell_type": "code",
   "execution_count": null,
   "id": "591e3be5",
   "metadata": {},
   "outputs": [],
   "source": []
  }
 ],
 "metadata": {
  "kernelspec": {
   "display_name": "Python 3 (ipykernel)",
   "language": "python",
   "name": "python3"
  },
  "language_info": {
   "codemirror_mode": {
    "name": "ipython",
    "version": 3
   },
   "file_extension": ".py",
   "mimetype": "text/x-python",
   "name": "python",
   "nbconvert_exporter": "python",
   "pygments_lexer": "ipython3",
   "version": "3.9.15"
  },
  "varInspector": {
   "cols": {
    "lenName": 16,
    "lenType": 16,
    "lenVar": 40
   },
   "kernels_config": {
    "python": {
     "delete_cmd_postfix": "",
     "delete_cmd_prefix": "del ",
     "library": "var_list.py",
     "varRefreshCmd": "print(var_dic_list())"
    },
    "r": {
     "delete_cmd_postfix": ") ",
     "delete_cmd_prefix": "rm(",
     "library": "var_list.r",
     "varRefreshCmd": "cat(var_dic_list()) "
    }
   },
   "types_to_exclude": [
    "module",
    "function",
    "builtin_function_or_method",
    "instance",
    "_Feature"
   ],
   "window_display": false
  }
 },
 "nbformat": 4,
 "nbformat_minor": 5
}
